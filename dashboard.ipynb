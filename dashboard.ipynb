{
 "cells": [
  {
   "cell_type": "code",
   "execution_count": 1,
   "metadata": {},
   "outputs": [],
   "source": [
    "#dashboard.ipynb\n",
    "#\n",
    "#by Joe Hahn\n",
    "#jmh.datasciences@gmail.com\n",
    "#14 March 2018\n",
    "#\n",
    "#This dashboard makes some useful plots"
   ]
  },
  {
   "cell_type": "code",
   "execution_count": 2,
   "metadata": {},
   "outputs": [],
   "source": [
    "#prep matplotlib\n",
    "%matplotlib inline\n",
    "import seaborn as sns\n",
    "import matplotlib.pyplot as plt\n",
    "sns.set(font_scale=1.5)"
   ]
  },
  {
   "cell_type": "code",
   "execution_count": 3,
   "metadata": {},
   "outputs": [],
   "source": [
    "#import numpy and pandas\n",
    "import numpy as np\n",
    "import pandas as pd\n",
    "pd.set_option('display.max_columns', None)"
   ]
  },
  {
   "cell_type": "code",
   "execution_count": 4,
   "metadata": {},
   "outputs": [
    {
     "name": "stdout",
     "output_type": "stream",
     "text": [
      "reading file =  data/private/eoddata/NYSE_2015.zip\n"
     ]
    },
    {
     "data": {
      "text/html": [
       "<div>\n",
       "<style scoped>\n",
       "    .dataframe tbody tr th:only-of-type {\n",
       "        vertical-align: middle;\n",
       "    }\n",
       "\n",
       "    .dataframe tbody tr th {\n",
       "        vertical-align: top;\n",
       "    }\n",
       "\n",
       "    .dataframe thead th {\n",
       "        text-align: right;\n",
       "    }\n",
       "</style>\n",
       "<table border=\"1\" class=\"dataframe\">\n",
       "  <thead>\n",
       "    <tr style=\"text-align: right;\">\n",
       "      <th></th>\n",
       "      <th>ticker</th>\n",
       "      <th>date</th>\n",
       "      <th>open</th>\n",
       "      <th>high</th>\n",
       "      <th>low</th>\n",
       "      <th>close</th>\n",
       "      <th>vol</th>\n",
       "    </tr>\n",
       "  </thead>\n",
       "  <tbody>\n",
       "    <tr>\n",
       "      <th>0</th>\n",
       "      <td>A</td>\n",
       "      <td>2015-04-01</td>\n",
       "      <td>41.46</td>\n",
       "      <td>41.52</td>\n",
       "      <td>40.72</td>\n",
       "      <td>41.39</td>\n",
       "      <td>2170300</td>\n",
       "    </tr>\n",
       "    <tr>\n",
       "      <th>1</th>\n",
       "      <td>AA</td>\n",
       "      <td>2015-04-01</td>\n",
       "      <td>38.73</td>\n",
       "      <td>39.30</td>\n",
       "      <td>38.58</td>\n",
       "      <td>39.00</td>\n",
       "      <td>38358900</td>\n",
       "    </tr>\n",
       "    <tr>\n",
       "      <th>2</th>\n",
       "      <td>AAC</td>\n",
       "      <td>2015-04-01</td>\n",
       "      <td>30.58</td>\n",
       "      <td>31.76</td>\n",
       "      <td>30.44</td>\n",
       "      <td>30.73</td>\n",
       "      <td>167600</td>\n",
       "    </tr>\n",
       "    <tr>\n",
       "      <th>3</th>\n",
       "      <td>AAN</td>\n",
       "      <td>2015-04-01</td>\n",
       "      <td>28.31</td>\n",
       "      <td>28.31</td>\n",
       "      <td>27.47</td>\n",
       "      <td>27.52</td>\n",
       "      <td>418300</td>\n",
       "    </tr>\n",
       "    <tr>\n",
       "      <th>4</th>\n",
       "      <td>AAP</td>\n",
       "      <td>2015-04-01</td>\n",
       "      <td>147.78</td>\n",
       "      <td>148.85</td>\n",
       "      <td>143.45</td>\n",
       "      <td>143.75</td>\n",
       "      <td>2423400</td>\n",
       "    </tr>\n",
       "  </tbody>\n",
       "</table>\n",
       "</div>"
      ],
      "text/plain": [
       "  ticker       date    open    high     low   close       vol\n",
       "0      A 2015-04-01   41.46   41.52   40.72   41.39   2170300\n",
       "1     AA 2015-04-01   38.73   39.30   38.58   39.00  38358900\n",
       "2    AAC 2015-04-01   30.58   31.76   30.44   30.73    167600\n",
       "3    AAN 2015-04-01   28.31   28.31   27.47   27.52    418300\n",
       "4    AAP 2015-04-01  147.78  148.85  143.45  143.75   2423400"
      ]
     },
     "execution_count": 4,
     "metadata": {},
     "output_type": "execute_result"
    }
   ],
   "source": [
    "#read 3 months of NYSE data\n",
    "start_date = '2015-04-01'\n",
    "end_date = '2015-07-01'\n",
    "path = 'data/private/eoddata/NYSE_2015.zip'\n",
    "from stock_picker_source.helper_fns import *\n",
    "market = read_market_data(path, start_date=start_date, end_date=end_date, drop_holidays=True)\n",
    "market.head()"
   ]
  },
  {
   "cell_type": "code",
   "execution_count": 8,
   "metadata": {},
   "outputs": [
    {
     "name": "stdout",
     "output_type": "stream",
     "text": [
      "455\n",
      "['BABA', 'BAC', 'GE', 'T', 'JPM', 'XOM', 'TWTR', 'C', 'WFC', 'PFE', 'AA', 'JNJ', 'VZ', 'ABBV', 'CVX', 'SGY', 'SLB', 'DIS', 'PG', 'MRK', 'IBM', 'ORCL', 'HAL', 'UNP', 'MCD', 'WMT', 'DAL', 'BA', 'GM', 'WMB', 'HD', 'HTZ', 'GS', 'KO', 'HLT', 'UNH', 'AXP', 'V', 'CVS', 'AIG', 'BMY', 'XRX', 'BRK.B', 'HUM', 'KMI', 'COP', 'PEP', 'MDT', 'CIE', 'CAT', 'PRGO', 'LLY', 'UTX', 'CI', 'F', 'PM', 'MON', 'VRX', 'TGT', 'MMM', 'MA', 'EOG', 'VLO', 'LOW', 'PBR', 'UAL', 'CMG', 'LUV', 'CRM', 'OXY', 'FCX', 'LYB', 'BAX', 'M', 'APC', 'MO', 'MS', 'DHR', 'MET', 'YUM', 'TEVA', 'CHK', 'UPS', 'PXD', 'TSM', 'TWX', 'ANTM', 'LVS', 'AET', 'HCA', 'FDX', 'KORS', 'USB', 'HON', 'EMR', 'DUK', 'NOV', 'SPG', 'DE', 'PSX', 'BK', 'LMT', 'VALE', 'ABT', 'MCK', 'AMT', 'PNC', 'SO', 'CBS', 'BP', 'DG', 'COF', 'PANW', 'KSS', 'NSC', 'MT', 'VIPS', 'ABC', 'SCHW', 'APA', 'GLW', 'ACN', 'EXC', 'URI', 'RIG', 'WLL', 'TRV', 'NEE', 'MGM', 'TMO', 'RDS.A', 'PRU', 'CMI', 'NBL', 'DVN', 'TJX', 'SWN', 'CAH', 'CL', 'RAD', 'HES', 'MRO', 'AMP', 'JCI', 'NOK', 'WHR', 'BLK', 'GD', 'YELP', 'X', 'MOS', 'AZO', 'RCL', 'BSX', 'DFS', 'BX', 'CP', 'COG', 'D', 'DLPH', 'CCI', 'SHW', 'ALL', 'NEM', 'GSK', 'ADM', 'ETN', 'RTN', 'RRC', 'NOC', 'PX', 'ZTS', 'IP', 'HPQ', 'STT', 'ITW', 'ITUB', 'CB', 'SYY', 'CXO', 'CCL', 'BBY', 'HST', 'SDRL', 'VTR', 'RF', 'WPZ', 'PH', 'MAC', 'PCG', 'KMB', 'CTL', 'GPS', 'TSN', 'HOG', 'PPL', 'APD', 'MNK', 'NKE', 'BDX', 'LEN', 'ETP', 'HCN', 'MPC', 'KR', 'AAP', 'BUD', 'KSU', 'KEY', 'CLR', 'GIS', 'XEC', 'ABX', 'JNPR', 'BBT', 'NVS', 'AEP', 'EIX', 'WFT', 'PBR.A', 'NE', 'GWW', 'LB', 'LH', 'PII', 'CFG', 'HP', 'ED', 'CAG', 'ESV', 'HCP', 'PLD', 'DHI', 'GG', 'VFC', 'PSA', 'SE', 'EL', 'STI', 'EMN', 'POT', 'ECL', 'PEG', 'FTI', 'NLSN', 'AFL', 'WY', 'NOW', 'AGN', 'TAP', 'MLM', 'DGX', 'RL', 'ADS', 'WU', 'ARNC', 'AON', 'EQR', 'HSY', 'IR', 'STZ', 'VMW', 'O', 'KMX', 'DOV', 'OAS', 'ETE', 'ROK', 'XL', 'WM', 'CX', 'SU', 'MMC', 'AER', 'FIT', 'PAGP', 'FL', 'AVB', 'PHM', 'TEL', 'WUBA', 'K', 'EQT', 'DATA', 'HIG', 'JCP', 'SRE', 'GGP', 'TIF', 'PVH', 'RIO', 'SYK', 'SWK', 'MTB', 'LNC', 'IVZ', 'NBR', 'CNX', 'HFC', 'NRG', 'NI', 'DRI', 'PGR', 'CNI', 'BHP', 'CMS', 'A', 'NFX', 'CNC', 'HSBC', 'RDS.B', 'OMC', 'XEL', 'UHS', 'PPG', 'UN', 'BXP', 'RY', 'MHK', 'RHT', 'MAS', 'XCO', 'ETR', 'PNR', 'FE', 'MUR', 'BEN', 'MCO', 'TOL', 'ECA', 'NUE', 'INFY', 'SFUN', 'CBI', 'AZN', 'FIS', 'VOYA', 'UA', 'FCAU', 'JWN', 'DPS', 'NLY', 'EPD', 'CCE', 'OKE', 'THC', 'BURL', 'AVP', 'DEO', 'SM', 'PKG', 'HBI', 'FLT', 'CPN', 'MSI', 'VAL.P', 'SEE', 'ALK', 'DTE', 'ALLY', 'TRN', 'WEC', 'SNY', 'SJM', 'DNR', 'HLF', 'BBD', 'AEO', 'BCR', 'BG', 'ABEV', 'HRS', 'AES', 'LEA', 'SLG', 'DVA', 'VMC', 'BWA', 'ENR', 'WYN', 'P', 'SIG', 'MGA', 'AMG', 'CLX', 'AMX', 'FLS', 'IBN', 'QEP', 'HRB', 'NVO', 'EW', 'VC', 'LL', 'CNQ', 'IPG', 'GRUB', 'HCC', 'VNO', 'CMA', 'EVHC', 'OHI', 'CNP', 'GCI', 'COL', 'OC', 'WBC', 'FLR', 'CLB', 'EGN', 'SPN', 'VAR', 'TXT', 'CYH', 'BKD', 'ESS', 'GME', 'AXTA', 'EXR', 'CIEN', 'TTM', 'CE', 'PAA', 'TDC', 'AYI', 'ES', 'AR', 'RMD', 'MOH', 'S', 'SRC', 'SAP', 'MIC', 'PFG', 'SHAK', 'ROP', 'ARMK', 'STWD', 'COO', 'NCR', 'SPR', 'GPT', 'BTU', 'CPB', 'IRM', 'TRGP', 'RDC', 'IGT', 'RH', 'LC', 'ARR', 'ALB', 'DDD', 'CRI', 'JMEI']\n"
     ]
    }
   ],
   "source": [
    "dpd_fraction = 0.8\n",
    "dpd_cs, tickers = get_top_tickers(market, dpd_fraction)\n",
    "print len(tickers)\n",
    "print tickers"
   ]
  },
  {
   "cell_type": "code",
   "execution_count": 9,
   "metadata": {},
   "outputs": [
    {
     "data": {
      "image/png": "[encoded data removed]",
      "text/plain": [
       "<Figure size 1152x432 with 1 Axes>"
      ]
     },
     "metadata": {},
     "output_type": "display_data"
    }
   ],
   "source": [
    "#plot gdpd_cs versus ticker\n",
    "yp = dpd_cs/1.0e9\n",
    "xp = range(len(yp))\n",
    "fig, ax = plt.subplots(figsize=(16, 6))\n",
    "p = ax.plot(xp, yp, linestyle='-')\n",
    "p = ax.set_title('NYSE daily dollar volume')\n",
    "p = ax.set_xlabel('ticker')\n",
    "p = ax.set_ylabel('dollar volume    (G$/day)')\n",
    "plt.savefig('figs/dollar_volume.png')"
   ]
  },
  {
   "cell_type": "code",
   "execution_count": null,
   "metadata": {},
   "outputs": [],
   "source": []
  }
 ],
 "metadata": {
  "kernelspec": {
   "display_name": "Python 2",
   "language": "python",
   "name": "python2"
  },
  "language_info": {
   "codemirror_mode": {
    "name": "ipython",
    "version": 2
   },
   "file_extension": ".py",
   "mimetype": "text/x-python",
   "name": "python",
   "nbconvert_exporter": "python",
   "pygments_lexer": "ipython2",
   "version": "2.7.14"
  }
 },
 "nbformat": 4,
 "nbformat_minor": 2
}
