{
 "cells": [
  {
   "cell_type": "code",
   "execution_count": 1,
   "metadata": {},
   "outputs": [],
   "source": [
    "#dashboard.ipynb\n",
    "#\n",
    "#by Joe Hahn\n",
    "#jmh.datasciences@gmail.com\n",
    "#14 March 2018\n",
    "#\n",
    "#This dashboard..."
   ]
  },
  {
   "cell_type": "code",
   "execution_count": 2,
   "metadata": {},
   "outputs": [],
   "source": [
    "#prep matplotlib\n",
    "%matplotlib inline\n",
    "import seaborn as sns\n",
    "import matplotlib.pyplot as plt\n",
    "sns.set(font_scale=1.5)"
   ]
  },
  {
   "cell_type": "code",
   "execution_count": 3,
   "metadata": {},
   "outputs": [],
   "source": [
    "#import numpy and pandas\n",
    "import numpy as np\n",
    "import pandas as pd\n",
    "pd.set_option('display.max_columns', None)"
   ]
  },
  {
   "cell_type": "code",
   "execution_count": null,
   "metadata": {},
   "outputs": [],
   "source": [
    "#read 3 months of NYSE data\n",
    "start_date = '2015-04-01'\n",
    "end_date = '2015-07-01'\n",
    "path = 'data/private/eoddata/NYSE_2015.zip'\n",
    "from stock_picker_source.helper_fns import *\n",
    "market = read_market_data(path, start_date=start_date, end_date=end_date, drop_holidays=True)\n",
    "market.head()"
   ]
  },
  {
   "cell_type": "code",
   "execution_count": null,
   "metadata": {},
   "outputs": [],
   "source": [
    "dpd_fraction = 0.8\n",
    "dpd_cs, tickers = get_top_tickers(market, dpd_fraction)\n",
    "print len(tickers)\n",
    "print tickers"
   ]
  },
  {
   "cell_type": "code",
   "execution_count": null,
   "metadata": {},
   "outputs": [],
   "source": [
    "#plot gdpd_cs versus ticker\n",
    "yp = dpd_cs/1.0e9\n",
    "xp = range(len(yp))\n",
    "fig, ax = plt.subplots(figsize=(16, 6))\n",
    "p = ax.plot(xp, yp, linestyle='-')\n",
    "p = ax.set_title('NYSE daily dollar volume')\n",
    "p = ax.set_xlabel('ticker')\n",
    "p = ax.set_ylabel('dollar volume    (G$/day)')\n",
    "plt.savefig('figs/dollar_volume.png')"
   ]
  },
  {
   "cell_type": "code",
   "execution_count": null,
   "metadata": {},
   "outputs": [],
   "source": []
  }
 ],
 "metadata": {
  "kernelspec": {
   "display_name": "Python 2",
   "language": "python",
   "name": "python2"
  },
  "language_info": {
   "codemirror_mode": {
    "name": "ipython",
    "version": 2
   },
   "file_extension": ".py",
   "mimetype": "text/x-python",
   "name": "python",
   "nbconvert_exporter": "python",
   "pygments_lexer": "ipython2",
   "version": "2.7.14"
  }
 },
 "nbformat": 4,
 "nbformat_minor": 2
}
